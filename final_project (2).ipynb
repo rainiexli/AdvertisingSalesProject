{
 "cells": [
  {
   "cell_type": "code",
   "execution_count": 71,
   "id": "1393d7a2-431b-45d0-83da-c3babf5fb094",
   "metadata": {},
   "outputs": [],
   "source": [
    "import pandas as pd\n",
    "import numpy as np\n",
    "import matplotlib.pyplot as plt"
   ]
  },
  {
   "cell_type": "markdown",
   "id": "32f8a508-bdc1-474f-b2f8-d225fa004c49",
   "metadata": {},
   "source": [
    "## Data Collection and Information Using SQL\n"
   ]
  },
  {
   "cell_type": "code",
   "execution_count": 72,
   "id": "484b908e-0bb1-4d31-abb2-bc0f0fc0a838",
   "metadata": {},
   "outputs": [
    {
     "data": {
      "text/html": [
       "<div>\n",
       "<style scoped>\n",
       "    .dataframe tbody tr th:only-of-type {\n",
       "        vertical-align: middle;\n",
       "    }\n",
       "\n",
       "    .dataframe tbody tr th {\n",
       "        vertical-align: top;\n",
       "    }\n",
       "\n",
       "    .dataframe thead th {\n",
       "        text-align: right;\n",
       "    }\n",
       "</style>\n",
       "<table border=\"1\" class=\"dataframe\">\n",
       "  <thead>\n",
       "    <tr style=\"text-align: right;\">\n",
       "      <th></th>\n",
       "      <th>TV</th>\n",
       "      <th>radio</th>\n",
       "      <th>newspaper</th>\n",
       "      <th>sales</th>\n",
       "    </tr>\n",
       "  </thead>\n",
       "  <tbody>\n",
       "    <tr>\n",
       "      <th>0</th>\n",
       "      <td>230.1</td>\n",
       "      <td>37.8</td>\n",
       "      <td>69.2</td>\n",
       "      <td>22.1</td>\n",
       "    </tr>\n",
       "    <tr>\n",
       "      <th>1</th>\n",
       "      <td>44.5</td>\n",
       "      <td>39.3</td>\n",
       "      <td>45.1</td>\n",
       "      <td>10.4</td>\n",
       "    </tr>\n",
       "    <tr>\n",
       "      <th>2</th>\n",
       "      <td>17.2</td>\n",
       "      <td>45.9</td>\n",
       "      <td>69.3</td>\n",
       "      <td>9.3</td>\n",
       "    </tr>\n",
       "    <tr>\n",
       "      <th>3</th>\n",
       "      <td>151.5</td>\n",
       "      <td>41.3</td>\n",
       "      <td>58.5</td>\n",
       "      <td>18.5</td>\n",
       "    </tr>\n",
       "    <tr>\n",
       "      <th>4</th>\n",
       "      <td>180.8</td>\n",
       "      <td>10.8</td>\n",
       "      <td>58.4</td>\n",
       "      <td>12.9</td>\n",
       "    </tr>\n",
       "    <tr>\n",
       "      <th>...</th>\n",
       "      <td>...</td>\n",
       "      <td>...</td>\n",
       "      <td>...</td>\n",
       "      <td>...</td>\n",
       "    </tr>\n",
       "    <tr>\n",
       "      <th>195</th>\n",
       "      <td>38.2</td>\n",
       "      <td>3.7</td>\n",
       "      <td>13.8</td>\n",
       "      <td>7.6</td>\n",
       "    </tr>\n",
       "    <tr>\n",
       "      <th>196</th>\n",
       "      <td>94.2</td>\n",
       "      <td>4.9</td>\n",
       "      <td>8.1</td>\n",
       "      <td>9.7</td>\n",
       "    </tr>\n",
       "    <tr>\n",
       "      <th>197</th>\n",
       "      <td>177.0</td>\n",
       "      <td>9.3</td>\n",
       "      <td>6.4</td>\n",
       "      <td>12.8</td>\n",
       "    </tr>\n",
       "    <tr>\n",
       "      <th>198</th>\n",
       "      <td>283.6</td>\n",
       "      <td>42.0</td>\n",
       "      <td>66.2</td>\n",
       "      <td>25.5</td>\n",
       "    </tr>\n",
       "    <tr>\n",
       "      <th>199</th>\n",
       "      <td>232.1</td>\n",
       "      <td>8.6</td>\n",
       "      <td>8.7</td>\n",
       "      <td>13.4</td>\n",
       "    </tr>\n",
       "  </tbody>\n",
       "</table>\n",
       "<p>200 rows × 4 columns</p>\n",
       "</div>"
      ],
      "text/plain": [
       "        TV  radio  newspaper  sales\n",
       "0    230.1   37.8       69.2   22.1\n",
       "1     44.5   39.3       45.1   10.4\n",
       "2     17.2   45.9       69.3    9.3\n",
       "3    151.5   41.3       58.5   18.5\n",
       "4    180.8   10.8       58.4   12.9\n",
       "..     ...    ...        ...    ...\n",
       "195   38.2    3.7       13.8    7.6\n",
       "196   94.2    4.9        8.1    9.7\n",
       "197  177.0    9.3        6.4   12.8\n",
       "198  283.6   42.0       66.2   25.5\n",
       "199  232.1    8.6        8.7   13.4\n",
       "\n",
       "[200 rows x 4 columns]"
      ]
     },
     "execution_count": 72,
     "metadata": {},
     "output_type": "execute_result"
    }
   ],
   "source": [
    "# create the table\n",
    "import sqlite3\n",
    "file_path = 'Advertising.csv'\n",
    "df = pd.read_csv(file_path)\n",
    "conn = sqlite3.connect('database.db')\n",
    "cursor = conn.cursor()\n",
    "create_table = '''CREATE TABLE IF NOT EXISTS advertise(\n",
    "                tv INTEGER PRIMARY KEY AUTOINCREMENT,\n",
    "                radio INTEGER NOT NULL,\n",
    "                newspaper INTEGER NOT NULL,\n",
    "                sales INTEGER NOT NULL);\n",
    "                '''\n",
    "cursor.execute(create_table)\n",
    "df.to_sql('advertise', conn, if_exists='replace', index = False)\n",
    "pd.read_sql('SELECT * FROM advertise', conn)"
   ]
  },
  {
   "cell_type": "code",
   "execution_count": 73,
   "id": "6dff628e-02b8-4b52-9a21-cea2e1a0ad85",
   "metadata": {},
   "outputs": [
    {
     "name": "stdout",
     "output_type": "stream",
     "text": [
      "Column names: ['TV', 'radio', 'newspaper', 'sales']\n"
     ]
    }
   ],
   "source": [
    "# show column names\n",
    "\n",
    "conn = sqlite3.connect('database.db')\n",
    "cursor = conn.cursor()\n",
    "cursor.execute('PRAGMA table_info(advertise)')\n",
    "columns_info = cursor.fetchall()\n",
    "column_names = [column[1] for column in columns_info]\n",
    "print(\"Column names:\", column_names)\n",
    "conn.close()"
   ]
  },
  {
   "cell_type": "code",
   "execution_count": 74,
   "id": "6936b458-3217-4254-906b-0b20f8ced109",
   "metadata": {},
   "outputs": [
    {
     "name": "stdout",
     "output_type": "stream",
     "text": [
      "        TV\n",
      "0    230.1\n",
      "1     44.5\n",
      "2     17.2\n",
      "3    151.5\n",
      "4    180.8\n",
      "..     ...\n",
      "195   38.2\n",
      "196   94.2\n",
      "197  177.0\n",
      "198  283.6\n",
      "199  232.1\n",
      "\n",
      "[200 rows x 1 columns]\n"
     ]
    }
   ],
   "source": [
    "# Tv column info\n",
    "conn = sqlite3.connect('database.db')\n",
    "tv_column = pd.read_sql('SELECT tv FROM advertise', conn)\n",
    "print(tv_column)\n",
    "conn.close()"
   ]
  },
  {
   "cell_type": "code",
   "execution_count": 75,
   "id": "0eecc5a4-88b6-4d46-81fa-d65cb6086baf",
   "metadata": {},
   "outputs": [
    {
     "name": "stdout",
     "output_type": "stream",
     "text": [
      "     radio\n",
      "0     37.8\n",
      "1     39.3\n",
      "2     45.9\n",
      "3     41.3\n",
      "4     10.8\n",
      "..     ...\n",
      "195    3.7\n",
      "196    4.9\n",
      "197    9.3\n",
      "198   42.0\n",
      "199    8.6\n",
      "\n",
      "[200 rows x 1 columns]\n"
     ]
    }
   ],
   "source": [
    "# Radio column info\n",
    "conn = sqlite3.connect('database.db')\n",
    "radio_data = pd.read_sql('SELECT radio FROM advertise', conn)\n",
    "print(radio_data)\n",
    "conn.close()"
   ]
  },
  {
   "cell_type": "code",
   "execution_count": 76,
   "id": "af5f9603-ec41-4c53-99ab-2ee1e70492d5",
   "metadata": {},
   "outputs": [
    {
     "name": "stdout",
     "output_type": "stream",
     "text": [
      "     newspaper\n",
      "0         69.2\n",
      "1         45.1\n",
      "2         69.3\n",
      "3         58.5\n",
      "4         58.4\n",
      "..         ...\n",
      "195       13.8\n",
      "196        8.1\n",
      "197        6.4\n",
      "198       66.2\n",
      "199        8.7\n",
      "\n",
      "[200 rows x 1 columns]\n"
     ]
    }
   ],
   "source": [
    "# Newspaper column info\n",
    "conn = sqlite3.connect('database.db')\n",
    "newspaper_column = pd.read_sql('SELECT newspaper FROM advertise', conn)\n",
    "print(newspaper_column)\n",
    "conn.close()"
   ]
  },
  {
   "cell_type": "code",
   "execution_count": 77,
   "id": "44098be9-1ba9-4ba7-8be1-86d6d8db718a",
   "metadata": {},
   "outputs": [
    {
     "name": "stdout",
     "output_type": "stream",
     "text": [
      "     sales\n",
      "0     22.1\n",
      "1     10.4\n",
      "2      9.3\n",
      "3     18.5\n",
      "4     12.9\n",
      "..     ...\n",
      "195    7.6\n",
      "196    9.7\n",
      "197   12.8\n",
      "198   25.5\n",
      "199   13.4\n",
      "\n",
      "[200 rows x 1 columns]\n"
     ]
    }
   ],
   "source": [
    "# Sales column info\n",
    "conn = sqlite3.connect('database.db')\n",
    "sales_column = pd.read_sql('SELECT sales FROM advertise', conn)\n",
    "print(sales_column)\n",
    "conn.close()"
   ]
  },
  {
   "cell_type": "code",
   "execution_count": 78,
   "id": "c3f61b57-603e-44e6-9b23-43357b860039",
   "metadata": {},
   "outputs": [
    {
     "name": "stdout",
     "output_type": "stream",
     "text": [
      "Total number of entries in the table: 200\n"
     ]
    }
   ],
   "source": [
    "# find how many entries are in the table\n",
    "conn = sqlite3.connect('database.db')\n",
    "row_count = conn.execute('SELECT COUNT(*) FROM advertise').fetchone()[0]\n",
    "print(f\"Total number of entries in the table: {row_count}\")\n",
    "conn.close()"
   ]
  },
  {
   "cell_type": "code",
   "execution_count": 79,
   "id": "fcd71d72-2305-4ddc-bc92-c49223d166b2",
   "metadata": {},
   "outputs": [
    {
     "name": "stdout",
     "output_type": "stream",
     "text": [
      "First five rows of the table:\n",
      "      TV  radio  newspaper  sales\n",
      "0  230.1   37.8       69.2   22.1\n",
      "1   44.5   39.3       45.1   10.4\n",
      "2   17.2   45.9       69.3    9.3\n",
      "3  151.5   41.3       58.5   18.5\n",
      "4  180.8   10.8       58.4   12.9\n"
     ]
    }
   ],
   "source": [
    "# Print the first five rows\n",
    "conn = sqlite3.connect('database.db')\n",
    "first_five_rows = pd.read_sql('SELECT * FROM advertise LIMIT 5', conn)\n",
    "print(\"First five rows of the table:\")\n",
    "print(first_five_rows)\n",
    "conn.close()"
   ]
  },
  {
   "cell_type": "code",
   "execution_count": 80,
   "id": "ca76ae63-2a92-43ed-b5cf-e66fccf4fbf2",
   "metadata": {},
   "outputs": [
    {
     "name": "stdout",
     "output_type": "stream",
     "text": [
      "Row with the maximum sales:\n",
      "      TV  radio  newspaper  sales\n",
      "0  276.9   48.9       41.8   27.0\n"
     ]
    }
   ],
   "source": [
    "# show row with the max sales\n",
    "conn = sqlite3.connect('database.db')\n",
    "max_sales_row = pd.read_sql('SELECT * FROM advertise WHERE sales = (SELECT MAX(sales) FROM advertise)', conn)\n",
    "print(\"Row with the maximum sales:\")\n",
    "print(max_sales_row)\n",
    "conn.close()\n"
   ]
  },
  {
   "cell_type": "code",
   "execution_count": 81,
   "id": "b9abc2c9-92e7-4538-ac4c-d043d3ffd1a8",
   "metadata": {},
   "outputs": [
    {
     "name": "stdout",
     "output_type": "stream",
     "text": [
      "Row with the minimum sales:\n",
      "    TV  radio  newspaper  sales\n",
      "0  0.7   39.6        8.7    1.6\n"
     ]
    }
   ],
   "source": [
    "# show row values with the minimum sales\n",
    "conn = sqlite3.connect('database.db')\n",
    "min_sales_row = pd.read_sql('SELECT * FROM advertise WHERE sales = (SELECT MIN(sales) FROM advertise)', conn)\n",
    "print(\"Row with the minimum sales:\")\n",
    "print(min_sales_row)\n",
    "conn.close()"
   ]
  },
  {
   "cell_type": "code",
   "execution_count": 82,
   "id": "7e2d8bfb-dcb1-4807-8eb0-36ad640a7a7b",
   "metadata": {},
   "outputs": [
    {
     "name": "stdout",
     "output_type": "stream",
     "text": [
      "The average sales value is: 14.0225\n"
     ]
    }
   ],
   "source": [
    "# find the average of all sales\n",
    "conn = sqlite3.connect('database.db')\n",
    "average_sales = conn.execute('SELECT AVG(sales) FROM advertise').fetchone()[0]\n",
    "print(f\"The average sales value is: {average_sales}\")\n",
    "conn.close()"
   ]
  },
  {
   "cell_type": "code",
   "execution_count": 83,
   "id": "768151fd-bc7b-41a2-b0fe-47af732c9997",
   "metadata": {},
   "outputs": [
    {
     "name": "stdout",
     "output_type": "stream",
     "text": [
      "Averages:\n",
      "TV: 147.0425\n",
      "Radio: 23.264\n",
      "Newspaper: 30.554000000000002\n",
      "The highest average is in 'tv' with an average of 147.0425\n",
      "The lowest average is in 'radio' with an average of 23.264\n"
     ]
    }
   ],
   "source": [
    "# find the average of tv, radio, newspaper. then find the max and min average of those three\n",
    "conn = sqlite3.connect('database.db')\n",
    "average_tv = conn.execute('SELECT AVG(tv) FROM advertise').fetchone()[0]\n",
    "average_radio = conn.execute('SELECT AVG(radio) FROM advertise').fetchone()[0]\n",
    "average_newspaper = conn.execute('SELECT AVG(newspaper) FROM advertise').fetchone()[0]\n",
    "averages = {\n",
    "    'tv': average_tv,\n",
    "    'radio': average_radio,\n",
    "    'newspaper': average_newspaper\n",
    "}\n",
    "max_average_column = max(averages, key=averages.get)\n",
    "min_average_column = min(averages, key=averages.get)\n",
    "print(f\"Averages:\\nTV: {average_tv}\\nRadio: {average_radio}\\nNewspaper: {average_newspaper}\")\n",
    "print(f\"The highest average is in '{max_average_column}' with an average of {averages[max_average_column]}\")\n",
    "print(f\"The lowest average is in '{min_average_column}' with an average of {averages[min_average_column]}\")\n",
    "conn.close()"
   ]
  },
  {
   "cell_type": "code",
   "execution_count": 70,
   "id": "c28b0720-0a81-4317-93b1-d1bac4ffd8d0",
   "metadata": {},
   "outputs": [
    {
     "name": "stdout",
     "output_type": "stream",
     "text": [
      "Table ordered by highest to minimum sales:\n",
      "        TV  radio  newspaper  sales\n",
      "0    276.9   48.9       41.8   27.0\n",
      "1    287.6   43.0       71.8   26.2\n",
      "2    283.6   42.0       66.2   25.5\n",
      "3    266.9   43.8        5.0   25.4\n",
      "4    289.7   42.3       51.2   25.4\n",
      "..     ...    ...        ...    ...\n",
      "195    5.4   29.9        9.4    5.3\n",
      "196   13.1    0.4       25.6    5.3\n",
      "197    8.6    2.1        1.0    4.8\n",
      "198    4.1   11.6        5.7    3.2\n",
      "199    0.7   39.6        8.7    1.6\n",
      "\n",
      "[200 rows x 4 columns]\n"
     ]
    }
   ],
   "source": [
    "# make another table that is ordered by highest to lowest sales\n",
    "conn = sqlite3.connect('database.db')\n",
    "conn.execute('''\n",
    "    CREATE TABLE IF NOT EXISTS advertise_ordered AS \n",
    "    SELECT * FROM advertise\n",
    "    ORDER BY sales DESC\n",
    "''')\n",
    "ordered_table = pd.read_sql('SELECT * FROM advertise_ordered', conn)\n",
    "print(\"Table ordered by highest to minimum sales:\")\n",
    "print(ordered_table)\n",
    "conn.close()"
   ]
  },
  {
   "cell_type": "markdown",
   "id": "e1e8a834-5cfc-4117-97e0-ee725e14677f",
   "metadata": {},
   "source": [
    "## Data Science Important Implementations:\n",
    "1. Loading the data\n",
    "2. Handling the missing values\n",
    "3. Finding outliers and plotting them using boxplot.\n",
    "4. Finding the correlation between sales and advertising spending on TV, radio, and newspapers.\n",
    "5. plotting the correlation"
   ]
  },
  {
   "cell_type": "code",
   "execution_count": 33,
   "id": "60d148b6-b307-41ca-bf06-6e09a5bb7461",
   "metadata": {},
   "outputs": [
    {
     "data": {
      "text/html": [
       "<div>\n",
       "<style scoped>\n",
       "    .dataframe tbody tr th:only-of-type {\n",
       "        vertical-align: middle;\n",
       "    }\n",
       "\n",
       "    .dataframe tbody tr th {\n",
       "        vertical-align: top;\n",
       "    }\n",
       "\n",
       "    .dataframe thead th {\n",
       "        text-align: right;\n",
       "    }\n",
       "</style>\n",
       "<table border=\"1\" class=\"dataframe\">\n",
       "  <thead>\n",
       "    <tr style=\"text-align: right;\">\n",
       "      <th></th>\n",
       "      <th>TV</th>\n",
       "      <th>radio</th>\n",
       "      <th>newspaper</th>\n",
       "      <th>sales</th>\n",
       "    </tr>\n",
       "  </thead>\n",
       "  <tbody>\n",
       "    <tr>\n",
       "      <th>0</th>\n",
       "      <td>230.1</td>\n",
       "      <td>37.8</td>\n",
       "      <td>69.2</td>\n",
       "      <td>22.1</td>\n",
       "    </tr>\n",
       "    <tr>\n",
       "      <th>1</th>\n",
       "      <td>44.5</td>\n",
       "      <td>39.3</td>\n",
       "      <td>45.1</td>\n",
       "      <td>10.4</td>\n",
       "    </tr>\n",
       "    <tr>\n",
       "      <th>2</th>\n",
       "      <td>17.2</td>\n",
       "      <td>45.9</td>\n",
       "      <td>69.3</td>\n",
       "      <td>9.3</td>\n",
       "    </tr>\n",
       "    <tr>\n",
       "      <th>3</th>\n",
       "      <td>151.5</td>\n",
       "      <td>41.3</td>\n",
       "      <td>58.5</td>\n",
       "      <td>18.5</td>\n",
       "    </tr>\n",
       "    <tr>\n",
       "      <th>4</th>\n",
       "      <td>180.8</td>\n",
       "      <td>10.8</td>\n",
       "      <td>58.4</td>\n",
       "      <td>12.9</td>\n",
       "    </tr>\n",
       "    <tr>\n",
       "      <th>...</th>\n",
       "      <td>...</td>\n",
       "      <td>...</td>\n",
       "      <td>...</td>\n",
       "      <td>...</td>\n",
       "    </tr>\n",
       "    <tr>\n",
       "      <th>195</th>\n",
       "      <td>38.2</td>\n",
       "      <td>3.7</td>\n",
       "      <td>13.8</td>\n",
       "      <td>7.6</td>\n",
       "    </tr>\n",
       "    <tr>\n",
       "      <th>196</th>\n",
       "      <td>94.2</td>\n",
       "      <td>4.9</td>\n",
       "      <td>8.1</td>\n",
       "      <td>9.7</td>\n",
       "    </tr>\n",
       "    <tr>\n",
       "      <th>197</th>\n",
       "      <td>177.0</td>\n",
       "      <td>9.3</td>\n",
       "      <td>6.4</td>\n",
       "      <td>12.8</td>\n",
       "    </tr>\n",
       "    <tr>\n",
       "      <th>198</th>\n",
       "      <td>283.6</td>\n",
       "      <td>42.0</td>\n",
       "      <td>66.2</td>\n",
       "      <td>25.5</td>\n",
       "    </tr>\n",
       "    <tr>\n",
       "      <th>199</th>\n",
       "      <td>232.1</td>\n",
       "      <td>8.6</td>\n",
       "      <td>8.7</td>\n",
       "      <td>13.4</td>\n",
       "    </tr>\n",
       "  </tbody>\n",
       "</table>\n",
       "<p>200 rows × 4 columns</p>\n",
       "</div>"
      ],
      "text/plain": [
       "        TV  radio  newspaper  sales\n",
       "0    230.1   37.8       69.2   22.1\n",
       "1     44.5   39.3       45.1   10.4\n",
       "2     17.2   45.9       69.3    9.3\n",
       "3    151.5   41.3       58.5   18.5\n",
       "4    180.8   10.8       58.4   12.9\n",
       "..     ...    ...        ...    ...\n",
       "195   38.2    3.7       13.8    7.6\n",
       "196   94.2    4.9        8.1    9.7\n",
       "197  177.0    9.3        6.4   12.8\n",
       "198  283.6   42.0       66.2   25.5\n",
       "199  232.1    8.6        8.7   13.4\n",
       "\n",
       "[200 rows x 4 columns]"
      ]
     },
     "execution_count": 33,
     "metadata": {},
     "output_type": "execute_result"
    }
   ],
   "source": [
    "file = pd.read_csv('Advertising.csv')\n",
    "file"
   ]
  },
  {
   "cell_type": "code",
   "execution_count": 34,
   "id": "c44e90cc-4536-48c6-a21e-3613b4d33546",
   "metadata": {},
   "outputs": [
    {
     "data": {
      "text/plain": [
       "TV           0\n",
       "radio        0\n",
       "newspaper    0\n",
       "sales        0\n",
       "dtype: int64"
      ]
     },
     "execution_count": 34,
     "metadata": {},
     "output_type": "execute_result"
    }
   ],
   "source": [
    "missing_values = file.isnull().sum()\n",
    "missing_values"
   ]
  },
  {
   "cell_type": "markdown",
   "id": "cac5de2a-da1b-4c44-9adb-7dec9388107f",
   "metadata": {},
   "source": [
    "### Alernative method for cleaning the dataset using SQL"
   ]
  },
  {
   "cell_type": "code",
   "execution_count": 90,
   "id": "6a6abb43-19eb-477a-af41-c3476261bb97",
   "metadata": {},
   "outputs": [
    {
     "name": "stdout",
     "output_type": "stream",
     "text": [
      "Table after removing rows with missing values:\n",
      "        TV  radio  newspaper  sales\n",
      "0    230.1   37.8       69.2   22.1\n",
      "1     44.5   39.3       45.1   10.4\n",
      "2     17.2   45.9       69.3    9.3\n",
      "3    151.5   41.3       58.5   18.5\n",
      "4    180.8   10.8       58.4   12.9\n",
      "..     ...    ...        ...    ...\n",
      "195   38.2    3.7       13.8    7.6\n",
      "196   94.2    4.9        8.1    9.7\n",
      "197  177.0    9.3        6.4   12.8\n",
      "198  283.6   42.0       66.2   25.5\n",
      "199  232.1    8.6        8.7   13.4\n",
      "\n",
      "[200 rows x 4 columns]\n"
     ]
    }
   ],
   "source": [
    "conn = sqlite3.connect('database.db')\n",
    "conn.execute('DELETE FROM advertise WHERE tv IS NULL OR radio IS NULL OR newspaper IS NULL OR sales IS NULL')\n",
    "conn.commit()\n",
    "cleaned_data = pd.read_sql('SELECT * FROM advertise', conn)\n",
    "print(\"Table after removing rows with missing values:\")\n",
    "print(cleaned_data)\n",
    "conn.close()"
   ]
  },
  {
   "cell_type": "code",
   "execution_count": 35,
   "id": "be85b520-24dc-4775-9ba1-9aeabef713a1",
   "metadata": {},
   "outputs": [
    {
     "data": {
      "text/html": [
       "<div>\n",
       "<style scoped>\n",
       "    .dataframe tbody tr th:only-of-type {\n",
       "        vertical-align: middle;\n",
       "    }\n",
       "\n",
       "    .dataframe tbody tr th {\n",
       "        vertical-align: top;\n",
       "    }\n",
       "\n",
       "    .dataframe thead th {\n",
       "        text-align: right;\n",
       "    }\n",
       "</style>\n",
       "<table border=\"1\" class=\"dataframe\">\n",
       "  <thead>\n",
       "    <tr style=\"text-align: right;\">\n",
       "      <th></th>\n",
       "      <th>TV</th>\n",
       "      <th>radio</th>\n",
       "      <th>newspaper</th>\n",
       "      <th>sales</th>\n",
       "      <th>Zscore_tv</th>\n",
       "      <th>Zscore_radio</th>\n",
       "      <th>Zscore_newspaper</th>\n",
       "      <th>Zscore_sales</th>\n",
       "      <th>is_outlier_tv</th>\n",
       "      <th>is_outlier_radio</th>\n",
       "      <th>is_outlier_newspaper</th>\n",
       "      <th>is_outlier_sales</th>\n",
       "    </tr>\n",
       "  </thead>\n",
       "  <tbody>\n",
       "    <tr>\n",
       "      <th>0</th>\n",
       "      <td>230.1</td>\n",
       "      <td>37.8</td>\n",
       "      <td>69.2</td>\n",
       "      <td>22.1</td>\n",
       "      <td>0.967425</td>\n",
       "      <td>0.979066</td>\n",
       "      <td>1.774493</td>\n",
       "      <td>1.548168</td>\n",
       "      <td>False</td>\n",
       "      <td>False</td>\n",
       "      <td>False</td>\n",
       "      <td>False</td>\n",
       "    </tr>\n",
       "    <tr>\n",
       "      <th>1</th>\n",
       "      <td>44.5</td>\n",
       "      <td>39.3</td>\n",
       "      <td>45.1</td>\n",
       "      <td>10.4</td>\n",
       "      <td>-1.194379</td>\n",
       "      <td>1.080097</td>\n",
       "      <td>0.667903</td>\n",
       "      <td>-0.694304</td>\n",
       "      <td>False</td>\n",
       "      <td>False</td>\n",
       "      <td>False</td>\n",
       "      <td>False</td>\n",
       "    </tr>\n",
       "    <tr>\n",
       "      <th>2</th>\n",
       "      <td>17.2</td>\n",
       "      <td>45.9</td>\n",
       "      <td>69.3</td>\n",
       "      <td>9.3</td>\n",
       "      <td>-1.512360</td>\n",
       "      <td>1.524637</td>\n",
       "      <td>1.779084</td>\n",
       "      <td>-0.905135</td>\n",
       "      <td>False</td>\n",
       "      <td>False</td>\n",
       "      <td>False</td>\n",
       "      <td>False</td>\n",
       "    </tr>\n",
       "    <tr>\n",
       "      <th>3</th>\n",
       "      <td>151.5</td>\n",
       "      <td>41.3</td>\n",
       "      <td>58.5</td>\n",
       "      <td>18.5</td>\n",
       "      <td>0.051919</td>\n",
       "      <td>1.214806</td>\n",
       "      <td>1.283185</td>\n",
       "      <td>0.858177</td>\n",
       "      <td>False</td>\n",
       "      <td>False</td>\n",
       "      <td>False</td>\n",
       "      <td>False</td>\n",
       "    </tr>\n",
       "    <tr>\n",
       "      <th>4</th>\n",
       "      <td>180.8</td>\n",
       "      <td>10.8</td>\n",
       "      <td>58.4</td>\n",
       "      <td>12.9</td>\n",
       "      <td>0.393196</td>\n",
       "      <td>-0.839507</td>\n",
       "      <td>1.278593</td>\n",
       "      <td>-0.215143</td>\n",
       "      <td>False</td>\n",
       "      <td>False</td>\n",
       "      <td>False</td>\n",
       "      <td>False</td>\n",
       "    </tr>\n",
       "    <tr>\n",
       "      <th>...</th>\n",
       "      <td>...</td>\n",
       "      <td>...</td>\n",
       "      <td>...</td>\n",
       "      <td>...</td>\n",
       "      <td>...</td>\n",
       "      <td>...</td>\n",
       "      <td>...</td>\n",
       "      <td>...</td>\n",
       "      <td>...</td>\n",
       "      <td>...</td>\n",
       "      <td>...</td>\n",
       "      <td>...</td>\n",
       "    </tr>\n",
       "    <tr>\n",
       "      <th>195</th>\n",
       "      <td>38.2</td>\n",
       "      <td>3.7</td>\n",
       "      <td>13.8</td>\n",
       "      <td>7.6</td>\n",
       "      <td>-1.267759</td>\n",
       "      <td>-1.317724</td>\n",
       "      <td>-0.769287</td>\n",
       "      <td>-1.230964</td>\n",
       "      <td>False</td>\n",
       "      <td>False</td>\n",
       "      <td>False</td>\n",
       "      <td>False</td>\n",
       "    </tr>\n",
       "    <tr>\n",
       "      <th>196</th>\n",
       "      <td>94.2</td>\n",
       "      <td>4.9</td>\n",
       "      <td>8.1</td>\n",
       "      <td>9.7</td>\n",
       "      <td>-0.615491</td>\n",
       "      <td>-1.236899</td>\n",
       "      <td>-1.031011</td>\n",
       "      <td>-0.828469</td>\n",
       "      <td>False</td>\n",
       "      <td>False</td>\n",
       "      <td>False</td>\n",
       "      <td>False</td>\n",
       "    </tr>\n",
       "    <tr>\n",
       "      <th>197</th>\n",
       "      <td>177.0</td>\n",
       "      <td>9.3</td>\n",
       "      <td>6.4</td>\n",
       "      <td>12.8</td>\n",
       "      <td>0.348934</td>\n",
       "      <td>-0.940539</td>\n",
       "      <td>-1.109069</td>\n",
       "      <td>-0.234310</td>\n",
       "      <td>False</td>\n",
       "      <td>False</td>\n",
       "      <td>False</td>\n",
       "      <td>False</td>\n",
       "    </tr>\n",
       "    <tr>\n",
       "      <th>198</th>\n",
       "      <td>283.6</td>\n",
       "      <td>42.0</td>\n",
       "      <td>66.2</td>\n",
       "      <td>25.5</td>\n",
       "      <td>1.590574</td>\n",
       "      <td>1.261955</td>\n",
       "      <td>1.636743</td>\n",
       "      <td>2.199827</td>\n",
       "      <td>False</td>\n",
       "      <td>False</td>\n",
       "      <td>False</td>\n",
       "      <td>False</td>\n",
       "    </tr>\n",
       "    <tr>\n",
       "      <th>199</th>\n",
       "      <td>232.1</td>\n",
       "      <td>8.6</td>\n",
       "      <td>8.7</td>\n",
       "      <td>13.4</td>\n",
       "      <td>0.990720</td>\n",
       "      <td>-0.987687</td>\n",
       "      <td>-1.003461</td>\n",
       "      <td>-0.119311</td>\n",
       "      <td>False</td>\n",
       "      <td>False</td>\n",
       "      <td>False</td>\n",
       "      <td>False</td>\n",
       "    </tr>\n",
       "  </tbody>\n",
       "</table>\n",
       "<p>200 rows × 12 columns</p>\n",
       "</div>"
      ],
      "text/plain": [
       "        TV  radio  newspaper  sales  Zscore_tv  Zscore_radio  \\\n",
       "0    230.1   37.8       69.2   22.1   0.967425      0.979066   \n",
       "1     44.5   39.3       45.1   10.4  -1.194379      1.080097   \n",
       "2     17.2   45.9       69.3    9.3  -1.512360      1.524637   \n",
       "3    151.5   41.3       58.5   18.5   0.051919      1.214806   \n",
       "4    180.8   10.8       58.4   12.9   0.393196     -0.839507   \n",
       "..     ...    ...        ...    ...        ...           ...   \n",
       "195   38.2    3.7       13.8    7.6  -1.267759     -1.317724   \n",
       "196   94.2    4.9        8.1    9.7  -0.615491     -1.236899   \n",
       "197  177.0    9.3        6.4   12.8   0.348934     -0.940539   \n",
       "198  283.6   42.0       66.2   25.5   1.590574      1.261955   \n",
       "199  232.1    8.6        8.7   13.4   0.990720     -0.987687   \n",
       "\n",
       "     Zscore_newspaper  Zscore_sales  is_outlier_tv  is_outlier_radio  \\\n",
       "0            1.774493      1.548168          False             False   \n",
       "1            0.667903     -0.694304          False             False   \n",
       "2            1.779084     -0.905135          False             False   \n",
       "3            1.283185      0.858177          False             False   \n",
       "4            1.278593     -0.215143          False             False   \n",
       "..                ...           ...            ...               ...   \n",
       "195         -0.769287     -1.230964          False             False   \n",
       "196         -1.031011     -0.828469          False             False   \n",
       "197         -1.109069     -0.234310          False             False   \n",
       "198          1.636743      2.199827          False             False   \n",
       "199         -1.003461     -0.119311          False             False   \n",
       "\n",
       "     is_outlier_newspaper  is_outlier_sales  \n",
       "0                   False             False  \n",
       "1                   False             False  \n",
       "2                   False             False  \n",
       "3                   False             False  \n",
       "4                   False             False  \n",
       "..                    ...               ...  \n",
       "195                 False             False  \n",
       "196                 False             False  \n",
       "197                 False             False  \n",
       "198                 False             False  \n",
       "199                 False             False  \n",
       "\n",
       "[200 rows x 12 columns]"
      ]
     },
     "execution_count": 35,
     "metadata": {},
     "output_type": "execute_result"
    }
   ],
   "source": [
    "file['Zscore_tv'] = (file['TV'] - file['TV'].mean()) / file['TV'].std()\n",
    "file['Zscore_radio'] = (file['radio'] - file['radio'].mean()) / file['radio'].std()\n",
    "file['Zscore_newspaper'] = (file['newspaper'] - file['newspaper'].mean()) / file['newspaper'].std()\n",
    "file['Zscore_sales'] = (file['sales'] - file['sales'].mean()) / file['sales'].std()\n",
    "\n",
    "file['is_outlier_tv'] = np.abs(file['Zscore_tv']) > 3\n",
    "file['is_outlier_radio'] = np.abs(file['Zscore_radio']) > 3\n",
    "file['is_outlier_newspaper'] = np.abs(file['Zscore_newspaper']) > 3\n",
    "file['is_outlier_sales'] = np.abs(file['Zscore_sales']) > 3\n",
    "file"
   ]
  },
  {
   "cell_type": "code",
   "execution_count": 36,
   "id": "39f1a925-dfa9-49aa-bfe3-9675559244fc",
   "metadata": {},
   "outputs": [
    {
     "data": {
      "text/plain": [
       "0"
      ]
     },
     "execution_count": 36,
     "metadata": {},
     "output_type": "execute_result"
    }
   ],
   "source": [
    "all_true_count = file[['is_outlier_tv', 'is_outlier_radio', 'is_outlier_newspaper', 'is_outlier_sales']].all(axis=1).sum()\n",
    "all_true_count"
   ]
  },
  {
   "cell_type": "code",
   "execution_count": 37,
   "id": "e8800fa6-21b2-46a4-989e-64aa4d75454f",
   "metadata": {},
   "outputs": [
    {
     "data": {
      "image/png": "[encoded data removed]",
      "text/plain": [
       "<Figure size 640x480 with 1 Axes>"
      ]
     },
     "metadata": {},
     "output_type": "display_data"
    }
   ],
   "source": [
    "plt.boxplot(file['TV'])\n",
    "plt.title(\"Boxplot to Identify Outliers\")\n",
    "plt.show()"
   ]
  },
  {
   "cell_type": "code",
   "execution_count": 38,
   "id": "565d7632-8978-4dcc-8c92-4bf1e1255724",
   "metadata": {},
   "outputs": [
    {
     "data": {
      "image/png": "[encoded data removed]",
      "text/plain": [
       "<Figure size 640x480 with 1 Axes>"
      ]
     },
     "metadata": {},
     "output_type": "display_data"
    }
   ],
   "source": [
    "plt.boxplot(file['radio'])\n",
    "plt.title(\"Boxplot to Identify Outliers\")\n",
    "plt.show()"
   ]
  },
  {
   "cell_type": "code",
   "execution_count": 39,
   "id": "f59831f5-ac95-45e8-9dec-a4f560bc4d35",
   "metadata": {},
   "outputs": [
    {
     "data": {
      "image/png": "[encoded data removed]",
      "text/plain": [
       "<Figure size 640x480 with 1 Axes>"
      ]
     },
     "metadata": {},
     "output_type": "display_data"
    }
   ],
   "source": [
    "plt.boxplot(file['radio'])\n",
    "plt.title(\"Boxplot to Identify Outliers\")\n",
    "plt.show()"
   ]
  },
  {
   "cell_type": "code",
   "execution_count": 40,
   "id": "16d0e5ff-ef7b-46d7-a856-658a9b234596",
   "metadata": {},
   "outputs": [
    {
     "data": {
      "image/png": "[encoded data removed]",
      "text/plain": [
       "<Figure size 640x480 with 1 Axes>"
      ]
     },
     "metadata": {},
     "output_type": "display_data"
    }
   ],
   "source": [
    "\n",
    "plt.boxplot(file['sales'])\n",
    "plt.title(\"Boxplot to Identify Outliers\")\n",
    "plt.show()"
   ]
  },
  {
   "cell_type": "code",
   "execution_count": null,
   "id": "6a43e0c0-3912-4bae-b210-87f2d40f069e",
   "metadata": {},
   "outputs": [],
   "source": [
    "for medium in ['TV', 'radio', 'newspaper']:\n",
    "    # Sort the data by the medium for a smooth curve\n",
    "    sorted_data = file.sort_values(by=medium)\n",
    "    x = sorted_data[medium]\n",
    "    y = sorted_data['sales']\n",
    "    \n",
    "    # Fit a smooth curve using a polynomial fit\n",
    "    coefficients = np.polyfit(x, y, 3)\n",
    "    polynomial = np.poly1d(coefficients)\n",
    "    smooth_x = np.linspace(x.min(), x.max(), 500)\n",
    "    smooth_y = polynomial(smooth_x)\n",
    "    \n",
    "    # Plot\n",
    "    plt.figure()\n",
    "    plt.plot(x, y, 'o', label=f\"{medium} Data\", alpha=0.5)\n",
    "    plt.plot(smooth_x, smooth_y, '-', label=f\"Smooth Curve for {medium}\")\n",
    "    plt.title(f\"Sales vs {medium.capitalize()} Budget\")\n",
    "    plt.xlabel(f\"{medium.capitalize()} Budget\")\n",
    "    plt.ylabel(\"Sales\")\n",
    "    plt.legend()\n",
    "    plt.grid(True)\n",
    "    plt.show()"
   ]
  },
  {
   "cell_type": "code",
   "execution_count": 42,
   "id": "400b5617-19f0-46e0-a93a-bcce76c2519c",
   "metadata": {},
   "outputs": [
    {
     "data": {
      "text/plain": [
       "TV           0.782224\n",
       "radio        0.576223\n",
       "newspaper    0.228299\n",
       "dtype: float64"
      ]
     },
     "execution_count": 42,
     "metadata": {},
     "output_type": "execute_result"
    }
   ],
   "source": [
    "# Calculate the correlation of sales with each advertising platform\n",
    "correlations = file[['TV', 'radio', 'newspaper']].corrwith(file['sales'])\n",
    "\n",
    "# Display the correlations\n",
    "correlations.sort_values(ascending=False)"
   ]
  },
  {
   "cell_type": "code",
   "execution_count": 43,
   "id": "9c3fb284-292d-4d46-ab66-401da7659334",
   "metadata": {},
   "outputs": [
    {
     "data": {
      "image/png": "[encoded data removed]",
      "text/plain": [
       "<Figure size 640x480 with 1 Axes>"
      ]
     },
     "metadata": {},
     "output_type": "display_data"
    }
   ],
   "source": [
    "# Plot the correlations as a bar chart\n",
    "correlations.sort_values(ascending=False).plot(kind='bar', color='skyblue', edgecolor='black')\n",
    "\n",
    "# Add title and labels\n",
    "plt.title(\"Correlation Between Advertising Platforms and Sales\")\n",
    "plt.ylabel(\"Correlation Coefficient\")\n",
    "plt.xlabel(\"Advertising Platform\")\n",
    "plt.xticks(rotation=0)\n",
    "plt.grid(axis='y', linestyle='--', alpha=0.7)\n",
    "\n",
    "# Show the plot\n",
    "plt.show()"
   ]
  },
  {
   "cell_type": "markdown",
   "id": "a545d894-48e0-4183-b107-93ce83cd8285",
   "metadata": {},
   "source": [
    "### All together"
   ]
  },
  {
   "cell_type": "code",
   "execution_count": 92,
   "id": "3ba6729f-57b8-4d0f-903b-69bb33661770",
   "metadata": {},
   "outputs": [],
   "source": [
    "data = pd.read_csv('Advertising.csv')\n"
   ]
  },
  {
   "cell_type": "code",
   "execution_count": 93,
   "id": "e9374dea-4a20-49a1-828b-b90fc33a16d8",
   "metadata": {},
   "outputs": [
    {
     "name": "stdout",
     "output_type": "stream",
     "text": [
      "Data Quality Report:\n",
      "      Column Data Type  Missing Values  Duplicates  Unique Values\n",
      "0         tv   float64               0           0            190\n",
      "1      radio   float64               0           0            167\n",
      "2  newspaper   float64               0           0            172\n",
      "3      sales   float64               0           0            121\n",
      "\n",
      "Cleaned Data Preview:\n",
      "      tv  radio  newspaper  sales\n",
      "0  230.1   37.8       69.2   22.1\n",
      "1   44.5   39.3       45.1   10.4\n",
      "2   17.2   45.9       69.3    9.3\n",
      "3  151.5   41.3       58.5   18.5\n",
      "4  180.8   10.8       58.4   12.9\n"
     ]
    }
   ],
   "source": [
    "# Data Cleaning Process\n",
    "\n",
    "# Step 1: Handle Missing Values\n",
    "missing_values_report = data.isnull().sum()\n",
    "\n",
    "# Step 2: Remove Duplicates\n",
    "duplicates_count = data.duplicated().sum()\n",
    "data_cleaned = data.drop_duplicates()\n",
    "\n",
    "# Step 3: Standardize Formats (column names to lowercase for consistency)\n",
    "data_cleaned.columns = data_cleaned.columns.str.lower()\n",
    "\n",
    "# Step 4: Create Data Quality Report\n",
    "data_quality_report = pd.DataFrame({\n",
    "    \"Column\": data_cleaned.columns,\n",
    "    \"Data Type\": data_cleaned.dtypes.values,\n",
    "    \"Missing Values\": missing_values_report.values,\n",
    "    \"Duplicates\": [duplicates_count if i == 0 else 0 for i in range(len(data_cleaned.columns))],\n",
    "    \"Unique Values\": [data_cleaned[col].nunique() for col in data_cleaned.columns]\n",
    "})\n",
    "\n",
    "# Display the data quality report\n",
    "print(\"Data Quality Report:\")\n",
    "print(data_quality_report)\n",
    "\n",
    "# Cleaned data preview\n",
    "print(\"\\nCleaned Data Preview:\")\n",
    "print(data_cleaned.head())"
   ]
  },
  {
   "cell_type": "markdown",
   "id": "24f51702-26a3-4719-ae47-a3b93a8a46cc",
   "metadata": {},
   "source": [
    "## Machine learning "
   ]
  },
  {
   "cell_type": "code",
   "execution_count": null,
   "id": "5591c177-fe15-432e-bfad-f8c6ea1e3dc3",
   "metadata": {},
   "outputs": [],
   "source": [
    "import seaborn as sns\n",
    "\n",
    "# Set up the plot style\n",
    "sns.set(style=\"whitegrid\")\n",
    "\n",
    "# Plot linear regression models for each advertising platform\n",
    "for medium in ['TV', 'radio', 'newspaper']:\n",
    "    plt.figure(figsize=(8, 6))\n",
    "    sns.regplot(x=medium, y='sales', data=file, ci=None, scatter_kws={'alpha': 0.6}, line_kws={'color': 'red'})\n",
    "    plt.title(f\"Sales vs {medium.capitalize()} with Linear Regression\")\n",
    "    plt.xlabel(f\"{medium.capitalize()} Budget\")\n",
    "    plt.ylabel(\"Sales\")\n",
    "    plt.show()"
   ]
  },
  {
   "cell_type": "markdown",
   "id": "c6576bf3-2c71-4287-b32b-c2340182df6e",
   "metadata": {},
   "source": [
    "## Prediction Model Using Linear Regression"
   ]
  },
  {
   "cell_type": "code",
   "execution_count": 95,
   "id": "65d2f5ea-3551-4bb1-b484-7b815d33643e",
   "metadata": {},
   "outputs": [],
   "source": [
    "from sklearn.model_selection import train_test_split\n",
    "from sklearn.linear_model import LinearRegression\n",
    "from sklearn.metrics import mean_squared_error\n"
   ]
  },
  {
   "cell_type": "code",
   "execution_count": 96,
   "id": "f4cd6d7b-eb46-43e0-9618-604b1adc0b0f",
   "metadata": {},
   "outputs": [],
   "source": [
    "import pandas as pd\n",
    "import numpy as np\n",
    "from sklearn.model_selection import train_test_split\n",
    "from sklearn.linear_model import LinearRegression\n",
    "from sklearn.metrics import r2_score\n",
    "from sklearn.preprocessing import StandardScaler\n",
    "import io"
   ]
  },
  {
   "cell_type": "code",
   "execution_count": 97,
   "id": "07332479-8389-4479-b6b0-b34f9e7a662e",
   "metadata": {},
   "outputs": [
    {
     "name": "stdout",
     "output_type": "stream",
     "text": [
      "Mean Squared Error: 3.1740973539761046\n",
      "   Actual  Predicted\n",
      "0    16.9  16.408024\n",
      "1    22.4  20.889882\n",
      "2    21.4  21.553843\n",
      "3     7.3  10.608503\n",
      "4    24.7  22.112373\n",
      "R-squared: 0.899438024100912\n"
     ]
    }
   ],
   "source": [
    "# Defining the features and target variable\n",
    "X = file[['TV', 'radio', 'newspaper']]  # Independent variables\n",
    "y = file['sales']  # Dependent variable\n",
    "\n",
    "# Splitting the data into training and testing sets\n",
    "X_train, X_test, y_train, y_test = train_test_split(X, y, test_size=0.2, random_state=42)\n",
    "\n",
    "# Creating and training the linear regression model\n",
    "model = LinearRegression()\n",
    "model.fit(X_train, y_train)\n",
    "\n",
    "# Predicting on the test set\n",
    "y_pred = model.predict(X_test)\n",
    "\n",
    "# Evaluating the model\n",
    "mse = mean_squared_error(y_test, y_pred)\n",
    "print(f\"Mean Squared Error: {mse}\")\n",
    "\n",
    "# Displaying a sample of predictions\n",
    "predictions = pd.DataFrame({'Actual': y_test.values, 'Predicted': y_pred})\n",
    "print(predictions.head())\n",
    "r2 = r2_score(y_test, y_pred)\n",
    "print(f\"R-squared: {r2}\")"
   ]
  },
  {
   "cell_type": "code",
   "execution_count": 98,
   "id": "17a1e939-6b4f-4ccc-a88b-b9ba37e223a7",
   "metadata": {},
   "outputs": [
    {
     "name": "stdout",
     "output_type": "stream",
     "text": [
      "Mean Squared Error (MSE): 3.1740973539761046\n",
      "Root Mean Squared Error (RMSE): 1.7815996615334502\n",
      "Mean Absolute Error (MAE): 1.4607567168117606\n",
      "R-squared (R2): 0.899438024100912\n"
     ]
    }
   ],
   "source": [
    "\n",
    "from sklearn.metrics import mean_squared_error, mean_absolute_error, r2_score\n",
    "import numpy as np\n",
    "\n",
    "# Predict on the test set\n",
    "y_pred = model.predict(X_test)\n",
    "\n",
    "# Calculate evaluation metrics\n",
    "mse = mean_squared_error(y_test, y_pred)\n",
    "rmse = np.sqrt(mse)\n",
    "mae = mean_absolute_error(y_test, y_pred)\n",
    "r2 = r2_score(y_test, y_pred)\n",
    "\n",
    "print(f\"Mean Squared Error (MSE): {mse}\")\n",
    "print(f\"Root Mean Squared Error (RMSE): {rmse}\")\n",
    "print(f\"Mean Absolute Error (MAE): {mae}\")\n",
    "print(f\"R-squared (R2): {r2}\")"
   ]
  },
  {
   "cell_type": "code",
   "execution_count": 99,
   "id": "13ce5857-c961-4b94-8c84-daf1476729d7",
   "metadata": {},
   "outputs": [
    {
     "name": "stdout",
     "output_type": "stream",
     "text": [
      "\n",
      "Model for TV:\n",
      "Mean Squared Error: 10.204654118800956\n",
      "R-squared: 0.6766954295627077\n",
      "\n",
      "Model for radio:\n",
      "Mean Squared Error: 23.248766588129108\n",
      "R-squared: 0.2634309396999791\n",
      "\n",
      "Model for newspaper:\n",
      "Mean Squared Error: 30.620733995242567\n",
      "R-squared: 0.029871749149522175\n"
     ]
    }
   ],
   "source": [
    "from sklearn.linear_model import LinearRegression\n",
    "from sklearn.metrics import mean_squared_error, r2_score\n",
    "import pandas as pd\n",
    "\n",
    "# Create separate datasets for each feature\n",
    "features = ['TV', 'radio', 'newspaper']\n",
    "results = []\n",
    "\n",
    "for feature in features:\n",
    "    # Define X and y for the specific feature\n",
    "    X = file[[feature]]\n",
    "    y = file['sales']\n",
    "    \n",
    "    # Split the data into training and testing sets\n",
    "    X_train, X_test, y_train, y_test = train_test_split(X, y, test_size=0.2, random_state=42)\n",
    "    \n",
    "    # Create and train the model\n",
    "    model = LinearRegression()\n",
    "    model.fit(X_train, y_train)\n",
    "    \n",
    "    # Predict on the test set\n",
    "    y_pred = model.predict(X_test)\n",
    "    \n",
    "    # Evaluate the model\n",
    "    mse = mean_squared_error(y_test, y_pred)\n",
    "    r2 = r2_score(y_test, y_pred)\n",
    "    \n",
    "    # Save results\n",
    "    results.append({'Feature': feature, 'MSE': mse, 'R-squared': r2, 'Model': model})\n",
    "    \n",
    "    # Print results for the current feature\n",
    "    print(f\"\\nModel for {feature}:\")\n",
    "    print(f\"Mean Squared Error: {mse}\")\n",
    "    print(f\"R-squared: {r2}\")\n"
   ]
  },
  {
   "cell_type": "code",
   "execution_count": 102,
   "id": "8e1499ec-e409-4f46-b46d-53a1749e374e",
   "metadata": {},
   "outputs": [
    {
     "name": "stdout",
     "output_type": "stream",
     "text": [
      "     Feature        MSE  R-squared\n",
      "0         TV  10.204654   0.676695\n",
      "1      radio  23.248767   0.263431\n",
      "2  newspaper  30.620734   0.029872\n"
     ]
    }
   ],
   "source": [
    "# Create a DataFrame to compare results\n",
    "comparison = pd.DataFrame(results).drop(columns='Model')  # Drop the model object for display\n",
    "comparison = comparison.sort_values(by='R-squared', ascending=False)\n",
    "\n",
    "# Display the comparison\n",
    "print(comparison)\n"
   ]
  },
  {
   "cell_type": "markdown",
   "id": "755af6cd-26f2-4585-84ae-7e21561f91d6",
   "metadata": {},
   "source": [
    "### To make the model better"
   ]
  },
  {
   "cell_type": "code",
   "execution_count": 53,
   "id": "6761cae9-6c35-4569-8e13-0bad7c298305",
   "metadata": {},
   "outputs": [],
   "source": [
    "import pandas as pd\n",
    "from sklearn.preprocessing import StandardScaler\n",
    "from sklearn.compose import ColumnTransformer\n",
    "from sklearn.pipeline import Pipeline\n"
   ]
  },
  {
   "cell_type": "code",
   "execution_count": 54,
   "id": "bf58f47f-8213-42ca-b493-941e28419050",
   "metadata": {},
   "outputs": [
    {
     "name": "stdout",
     "output_type": "stream",
     "text": [
      "\n",
      "Transformed Dataset Preview:\n",
      "   TV_scaled  radio_scaled  newspaper_scaled  sales  TV_radio  \\\n",
      "0   0.969852      0.981522          1.778945   22.1  0.951932   \n",
      "1  -1.197376      1.082808          0.669579   10.4 -1.296528   \n",
      "2  -1.516155      1.528463          1.783549    9.3 -2.317387   \n",
      "3   0.052050      1.217855          1.286405   18.5  0.063389   \n",
      "4   0.394182     -0.841614          1.281802   12.9 -0.331749   \n",
      "\n",
      "   radio_newspaper  radio_to_TV  newspaper_to_TV  \n",
      "0         1.746075     1.012033         1.834244  \n",
      "1         0.725025    -0.904317        -0.559205  \n",
      "2         2.726089    -1.008118        -1.176363  \n",
      "3         1.566655    23.397932        24.714945  \n",
      "4        -1.078782    -2.135088         3.251801  \n",
      "\n",
      "Aggregated Statistics:\n",
      "          TV_scaled  radio_scaled  newspaper_scaled       sales    TV_radio  \\\n",
      "count  2.000000e+02  2.000000e+02      2.000000e+02  200.000000  200.000000   \n",
      "mean   1.221245e-16 -4.529710e-16      2.220446e-16   14.022500    0.054809   \n",
      "std    1.002509e+00  1.002509e+00      1.002509e+00    5.217457    1.009660   \n",
      "min   -1.708823e+00 -1.570868e+00     -1.392646e+00    1.600000   -2.796327   \n",
      "25%   -8.485295e-01 -8.973206e-01     -8.195504e-01   10.375000   -0.505779   \n",
      "50%    3.161515e-02 -2.457858e-02     -2.211368e-01   12.900000    0.057135   \n",
      "75%    8.381955e-01  8.954299e-01      6.695788e-01   17.400000    0.622735   \n",
      "max    1.744029e+00  1.778300e+00      3.841171e+00   27.000000    2.624819   \n",
      "\n",
      "       radio_newspaper  radio_to_TV  newspaper_to_TV  \n",
      "count       200.000000   200.000000       200.000000  \n",
      "mean          0.354104     0.271897        -0.887214  \n",
      "std           0.972533     5.210359        13.096492  \n",
      "min          -3.349252   -46.060060      -175.352175  \n",
      "25%          -0.195903    -0.903661        -0.786410  \n",
      "50%           0.194933     0.196849         0.057114  \n",
      "75%           0.902059     1.051614         0.887140  \n",
      "max           3.737888    26.842915        24.714945  \n"
     ]
    }
   ],
   "source": [
    "# Step 2: Create Feature Engineering Pipelines\n",
    "# Define features to scale\n",
    "features_to_scale = ['TV', 'radio', 'newspaper']\n",
    "\n",
    "# Create a scaling pipeline\n",
    "scaler = StandardScaler()\n",
    "scaling_pipeline = ColumnTransformer(transformers=[\n",
    "    ('scaler', scaler, features_to_scale)\n",
    "], remainder='passthrough')  # Pass other columns unchanged\n",
    "\n",
    "# Step 3: Apply Normalization and Scaling\n",
    "scaled_data = scaling_pipeline.fit_transform(data)\n",
    "scaled_data_df = pd.DataFrame(scaled_data, columns=['TV_scaled', 'radio_scaled', 'newspaper_scaled', 'sales'])\n",
    "\n",
    "# Step 4: Generate Derived Metrics for Analysis\n",
    "# Create interaction terms (e.g., TV and radio advertising combined effect)\n",
    "scaled_data_df['TV_radio'] = scaled_data_df['TV_scaled'] * scaled_data_df['radio_scaled']\n",
    "scaled_data_df['radio_newspaper'] = scaled_data_df['radio_scaled'] * scaled_data_df['newspaper_scaled']\n",
    "\n",
    "# Create ratio metrics\n",
    "scaled_data_df['radio_to_TV'] = scaled_data_df['radio_scaled'] / (scaled_data_df['TV_scaled'] + 1e-9)  # Avoid division by zero\n",
    "scaled_data_df['newspaper_to_TV'] = scaled_data_df['newspaper_scaled'] / (scaled_data_df['TV_scaled'] + 1e-9)\n",
    "\n",
    "# Step 5: Create Aggregated Views\n",
    "# Generate summary statistics for the dataset\n",
    "aggregated_view = scaled_data_df.describe()\n",
    "\n",
    "# Step 6: Display Results\n",
    "print(\"\\nTransformed Dataset Preview:\")\n",
    "print(scaled_data_df.head())\n",
    "\n",
    "print(\"\\nAggregated Statistics:\")\n",
    "print(aggregated_view)"
   ]
  },
  {
   "cell_type": "code",
   "execution_count": null,
   "id": "bab1284e-cb8c-4d22-9957-d1b609c8b96a",
   "metadata": {},
   "outputs": [],
   "source": [
    "import matplotlib.pyplot as plt\n",
    "import seaborn as sns\n",
    "\n",
    "# Scatter plots for relationships between features and sales\n",
    "features_to_plot = ['TV_scaled', 'radio_scaled', 'newspaper_scaled', 'TV_radio', 'radio_newspaper']\n",
    "plt.figure(figsize=(12, 8))\n",
    "for i, feature in enumerate(features_to_plot, 1):\n",
    "    plt.subplot(2, 3, i)\n",
    "    sns.scatterplot(x=scaled_data_df[feature], y=scaled_data_df['sales'])\n",
    "    plt.title(f'Sales vs {feature}')\n",
    "    plt.xlabel(feature)\n",
    "    plt.ylabel('Sales')\n",
    "plt.tight_layout()\n",
    "plt.show()\n",
    "\n",
    "# Investigate outliers in derived metrics\n",
    "plt.figure(figsize=(10, 6))\n",
    "sns.boxplot(data=scaled_data_df[['radio_to_TV', 'newspaper_to_TV']])\n",
    "plt.title('Boxplot of Derived Metrics')\n",
    "plt.ylabel('Value')\n",
    "plt.show()\n"
   ]
  },
  {
   "cell_type": "code",
   "execution_count": 26,
   "id": "feab2d14-26e4-4175-b0be-1afef68f8380",
   "metadata": {},
   "outputs": [
    {
     "name": "stdout",
     "output_type": "stream",
     "text": [
      "Mean Squared Error: 0.8270625515249478\n",
      "R-squared: 0.9737969459981106\n",
      "\n",
      "Sample Predictions:\n",
      "     Actual  Predicted\n",
      "95     16.9  16.447745\n",
      "15     22.4  21.933118\n",
      "30     21.4  22.158128\n",
      "158     7.3   8.664689\n",
      "128    24.7  24.070416\n"
     ]
    },
    {
     "data": {
      "image/png": "[encoded data removed]",
      "text/plain": [
       "<Figure size 800x600 with 1 Axes>"
      ]
     },
     "metadata": {},
     "output_type": "display_data"
    }
   ],
   "source": [
    "from sklearn.model_selection import train_test_split\n",
    "from sklearn.linear_model import LinearRegression\n",
    "from sklearn.metrics import mean_squared_error, r2_score\n",
    "\n",
    "# Features and target\n",
    "X = scaled_data_df[['TV_scaled', 'radio_scaled', 'newspaper_scaled', 'TV_radio', 'radio_newspaper', 'radio_to_TV', 'newspaper_to_TV']]\n",
    "y = scaled_data_df['sales']\n",
    "\n",
    "# Split the dataset into training and testing sets\n",
    "X_train, X_test, y_train, y_test = train_test_split(X, y, test_size=0.2, random_state=42)\n",
    "\n",
    "# Train a Linear Regression model\n",
    "model = LinearRegression()\n",
    "model.fit(X_train, y_train)\n",
    "\n",
    "# Make predictions\n",
    "y_pred = model.predict(X_test)\n",
    "\n",
    "# Evaluate the model\n",
    "mse = mean_squared_error(y_test, y_pred)\n",
    "r2 = r2_score(y_test, y_pred)\n",
    "\n",
    "print(f\"Mean Squared Error: {mse}\")\n",
    "print(f\"R-squared: {r2}\")\n",
    "\n",
    "# Display actual vs predicted sales\n",
    "comparison = pd.DataFrame({'Actual': y_test, 'Predicted': y_pred})\n",
    "print(\"\\nSample Predictions:\")\n",
    "print(comparison.head())\n",
    "\n",
    "# Visualize actual vs predicted sales\n",
    "plt.figure(figsize=(8, 6))\n",
    "sns.scatterplot(x=y_test, y=y_pred)\n",
    "plt.plot([y_test.min(), y_test.max()], [y_test.min(), y_test.max()], color='red', linestyle='--', linewidth=2)\n",
    "plt.title('Actual vs Predicted Sales')\n",
    "plt.xlabel('Actual Sales')\n",
    "plt.ylabel('Predicted Sales')\n",
    "plt.show()\n"
   ]
  },
  {
   "cell_type": "code",
   "execution_count": null,
   "id": "715021a9-4d9a-48d2-b551-ff56bfcf1443",
   "metadata": {},
   "outputs": [],
   "source": [
    "from sklearn.model_selection import train_test_split\n",
    "from sklearn.linear_model import LinearRegression\n",
    "from sklearn.metrics import mean_squared_error, r2_score\n",
    "import pandas as pd\n",
    "import matplotlib.pyplot as plt\n",
    "import seaborn as sns\n",
    "\n",
    "# Features and target\n",
    "features = ['TV_scaled', 'radio_scaled', 'newspaper_scaled']\n",
    "target = scaled_data_df['sales']\n",
    "\n",
    "# Loop through each feature\n",
    "for feature in features:\n",
    "    print(f\"\\nModel using feature: {feature}\")\n",
    "    \n",
    "    # Use only one feature\n",
    "    X = scaled_data_df[[feature]]\n",
    "    y = target\n",
    "    \n",
    "    # Split the dataset into training and testing sets\n",
    "    X_train, X_test, y_train, y_test = train_test_split(X, y, test_size=0.2, random_state=42)\n",
    "    \n",
    "    # Train a Linear Regression model\n",
    "    model = LinearRegression()\n",
    "    model.fit(X_train, y_train)\n",
    "    \n",
    "    # Make predictions\n",
    "    y_pred = model.predict(X_test)\n",
    "    \n",
    "    # Evaluate the model\n",
    "    mse = mean_squared_error(y_test, y_pred)\n",
    "    r2 = r2_score(y_test, y_pred)\n",
    "    \n",
    "    print(f\"Mean Squared Error: {mse}\")\n",
    "    print(f\"R-squared: {r2}\")\n",
    "    \n",
    "    # Display actual vs predicted sales\n",
    "    comparison = pd.DataFrame({'Actual': y_test, 'Predicted': y_pred})\n",
    "    print(\"\\nSample Predictions:\")\n",
    "    print(comparison.head())\n",
    "    \n",
    "    # Visualize actual vs predicted sales\n",
    "    plt.figure(figsize=(8, 6))\n",
    "    sns.scatterplot(x=y_test, y=y_pred)\n",
    "    plt.plot([y_test.min(), y_test.max()], [y_test.min(), y_test.max()], color='red', linestyle='--', linewidth=2)\n",
    "    plt.title(f'Actual vs Predicted Sales (Feature: {feature})')\n",
    "    plt.xlabel('Actual Sales')\n",
    "    plt.ylabel('Predicted Sales')\n",
    "    plt.show()\n"
   ]
  },
  {
   "cell_type": "code",
   "execution_count": 86,
   "id": "3d844f1e-62ed-4dc0-8664-7bb62915b72b",
   "metadata": {},
   "outputs": [
    {
     "name": "stdout",
     "output_type": "stream",
     "text": [
      "Logistic Regression Mean Squared Error (CV): 0.9996709919221534\n",
      "Random Forest Mean Squared Error (CV): 0.6833565799999993\n",
      "\n",
      "Model Comparison:\n",
      "                 Model  Mean Squared Error\n",
      "0  Logistic Regression            0.999671\n",
      "1        Random Forest            0.683357\n"
     ]
    }
   ],
   "source": [
    "from sklearn.ensemble import RandomForestRegressor\n",
    "from sklearn.linear_model import LinearRegression\n",
    "from sklearn.model_selection import cross_val_score, KFold\n",
    "import joblib\n",
    "import pandas as pd\n",
    "\n",
    "# Step 1: Define Features and Target\n",
    "X = scaled_data_df[['TV_scaled', 'radio_scaled', 'newspaper_scaled', 'TV_radio', 'radio_newspaper', 'radio_to_TV', 'newspaper_to_TV']]\n",
    "y = scaled_data_df['sales']\n",
    "\n",
    "# Step 2: Cross-Validation Setup\n",
    "kf = KFold(n_splits=5, shuffle=True, random_state=42)  # 5-fold cross-validation\n",
    "\n",
    "# Step 3: Logistic Regression Model (adapted for regression as Linear Regression)\n",
    "log_reg = LinearRegression()\n",
    "log_reg_cv_scores = cross_val_score(log_reg, X, y, cv=kf, scoring='neg_mean_squared_error')\n",
    "\n",
    "# Train Logistic Regression\n",
    "log_reg.fit(X, y)\n",
    "log_reg_mse = -log_reg_cv_scores.mean()\n",
    "\n",
    "# Step 4: Random Forest Model\n",
    "rf = RandomForestRegressor(random_state=42, n_estimators=100)\n",
    "rf_cv_scores = cross_val_score(rf, X, y, cv=kf, scoring='neg_mean_squared_error')\n",
    "\n",
    "# Train Random Forest\n",
    "rf.fit(X, y)\n",
    "rf_mse = -rf_cv_scores.mean()\n",
    "\n",
    "# Step 5: Save Models for Versioning\n",
    "joblib.dump(log_reg, 'logistic_regression_model_v1.pkl')\n",
    "joblib.dump(rf, 'random_forest_model_v1.pkl')\n",
    "# Step 6: Display Results\n",
    "print(f\"Logistic Regression Mean Squared Error (CV): {log_reg_mse}\")\n",
    "print(f\"Random Forest Mean Squared Error (CV): {rf_mse}\")\n",
    "\n",
    "# Summarize Cross-Validation Scores\n",
    "model_comparison = pd.DataFrame({\n",
    "    'Model': ['Logistic Regression', 'Random Forest'],\n",
    "    'Mean Squared Error': [log_reg_mse, rf_mse]\n",
    "})\n",
    "\n",
    "# Print the model comparison table\n",
    "print(\"\\nModel Comparison:\")\n",
    "print(model_comparison)\n"
   ]
  },
  {
   "cell_type": "code",
   "execution_count": 87,
   "id": "34420b9f-b54d-49a5-a99b-52d0438bcce8",
   "metadata": {},
   "outputs": [
    {
     "name": "stdout",
     "output_type": "stream",
     "text": [
      "Model Performance Metrics:\n",
      "                 Model  Mean Squared Error (MSE)  \\\n",
      "0  Logistic Regression                  0.827063   \n",
      "1        Random Forest                  0.574304   \n",
      "\n",
      "   Root Mean Squared Error (RMSE)  R-squared (R²)  \n",
      "0                        0.909430        0.973797  \n",
      "1                        0.757828        0.981805  \n"
     ]
    }
   ],
   "source": [
    "from sklearn.metrics import mean_squared_error, r2_score\n",
    "import numpy as np\n",
    "import pandas as pd\n",
    "\n",
    "# Step 1: Define Features and Target\n",
    "X = scaled_data_df[['TV_scaled', 'radio_scaled', 'newspaper_scaled', 'TV_radio', 'radio_newspaper', 'radio_to_TV', 'newspaper_to_TV']]\n",
    "y = scaled_data_df['sales']\n",
    "\n",
    "# Step 2: Train-Test Split\n",
    "from sklearn.model_selection import train_test_split\n",
    "X_train, X_test, y_train, y_test = train_test_split(X, y, test_size=0.2, random_state=42)\n",
    "\n",
    "# Step 3: Train Logistic Regression\n",
    "log_reg = LinearRegression()\n",
    "log_reg.fit(X_train, y_train)\n",
    "log_reg_preds = log_reg.predict(X_test)\n",
    "\n",
    "# Logistic Regression Metrics\n",
    "log_reg_mse = mean_squared_error(y_test, log_reg_preds)\n",
    "log_reg_rmse = np.sqrt(log_reg_mse)\n",
    "log_reg_r2 = r2_score(y_test, log_reg_preds)\n",
    "\n",
    "# Step 4: Train Random Forest\n",
    "rf = RandomForestRegressor(random_state=42, n_estimators=100)\n",
    "rf.fit(X_train, y_train)\n",
    "rf_preds = rf.predict(X_test)\n",
    "\n",
    "# Random Forest Metrics\n",
    "rf_mse = mean_squared_error(y_test, rf_preds)\n",
    "rf_rmse = np.sqrt(rf_mse)\n",
    "rf_r2 = r2_score(y_test, rf_preds)\n",
    "\n",
    "\n",
    "# Step 5: Save Metrics in a Table\n",
    "performance_metrics = pd.DataFrame({\n",
    "    'Model': ['Logistic Regression', 'Random Forest'],\n",
    "    'Mean Squared Error (MSE)': [log_reg_mse, rf_mse],\n",
    "    'Root Mean Squared Error (RMSE)': [log_reg_rmse, rf_rmse],\n",
    "    'R-squared (R²)': [log_reg_r2, rf_r2]\n",
    "})\n",
    "\n",
    "# Display Metrics\n",
    "print(\"Model Performance Metrics:\")\n",
    "print(performance_metrics)\n",
    "\n",
    "# Save Metrics for Deployment\n",
    "performance_metrics.to_csv('model_performance_metrics.csv', index=False)\n"
   ]
  },
  {
   "cell_type": "code",
   "execution_count": null,
   "id": "cd8a3fa3-81d8-45d8-9159-8afa82cbc702",
   "metadata": {},
   "outputs": [],
   "source": []
  }
 ],
 "metadata": {
  "kernelspec": {
   "display_name": "Python 3 (ipykernel)",
   "language": "python",
   "name": "python3"
  },
  "language_info": {
   "codemirror_mode": {
    "name": "ipython",
    "version": 3
   },
   "file_extension": ".py",
   "mimetype": "text/x-python",
   "name": "python",
   "nbconvert_exporter": "python",
   "pygments_lexer": "ipython3",
   "version": "3.12.2"
  }
 },
 "nbformat": 4,
 "nbformat_minor": 5
}
